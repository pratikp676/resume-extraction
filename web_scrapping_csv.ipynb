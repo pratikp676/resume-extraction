{
 "cells": [
  {
   "cell_type": "code",
   "execution_count": null,
   "id": "clinical-wallpaper",
   "metadata": {
    "scrolled": false
   },
   "outputs": [],
   "source": [
    "import requests,json,time\n",
    "from bs4 import BeautifulSoup\n",
    "from pymongo import MongoClient\n",
    "import pandas as pd"
   ]
  },
  {
   "cell_type": "code",
   "execution_count": null,
   "id": "young-origin",
   "metadata": {},
   "outputs": [],
   "source": [
    "def soup_object(URL):\n",
    "    agent = {\"User-Agent\":'Mozilla/5.0 (Windows NT 6.3; WOW64) AppleWebKit/537.36 (KHTML, like Gecko) Chrome/59.0.3071.115 Safari/537.36'}\n",
    "    page = requests.get(URL,headers=agent)\n",
    "    soup = BeautifulSoup(page.content,'html.parser')\n",
    "    \n",
    "    return soup"
   ]
  },
  {
   "cell_type": "code",
   "execution_count": null,
   "id": "unusual-backing",
   "metadata": {},
   "outputs": [],
   "source": [
    "df = pd.DataFrame()"
   ]
  },
  {
   "cell_type": "code",
   "execution_count": null,
   "id": "chief-fossil",
   "metadata": {},
   "outputs": [],
   "source": [
    "start_time = time.time()\n",
    "for page_no in range(35,40):\n",
    "    URL = 'https://www.monsterindia.com/search/freshers-jobs-'+str(page_no)+'?searchId=b4215b81-3488-432e-9936-6f2c6c42640c'\n",
    "    soup = soup_object(URL)\n",
    "    \n",
    "    job_posting = soup.find_all('a',attrs={'onclick':'appBehavior.srp.resultTuple.jDLinkClick(this,event)'})\n",
    "    jd_urls = []\n",
    "    for url in job_posting:\n",
    "        soup_job = soup_object(url.get('href'))\n",
    "        \n",
    "        \n",
    "        try:\n",
    "            job_title = soup_job.find('h1')\n",
    "            if job_title == None:\n",
    "                job_title_text = ''\n",
    "            else:\n",
    "                job_title_text = job_title.text.strip()\n",
    "        except:\n",
    "            continue\n",
    "        \n",
    "        \n",
    "        try:\n",
    "            company_name = soup_job.find('a',attrs={'class':'under-link'})\n",
    "            if company_name == None:\n",
    "                company_name_text = ''\n",
    "            else:\n",
    "                compnay_name_text = company_name.text.strip()\n",
    "        except:\n",
    "            continue\n",
    "        \n",
    "        try:\n",
    "            job_location = soup_job.find('span',class_='loc jd-loc')\n",
    "            if job_location == None:\n",
    "                job_location = []\n",
    "            else:\n",
    "                a = job_location.text.strip().split(',')\n",
    "                job_location = []\n",
    "                for x in a:\n",
    "                    job_location.append(x.strip())\n",
    "        except:\n",
    "            continue\n",
    "            \n",
    "        try:\n",
    "            exp = soup_job.find('div',class_='exp col-xxs-12 col-sm-3 text-ellipsis')\n",
    "            if exp == None:\n",
    "                exp_text = ''\n",
    "            else:\n",
    "                exp_text = exp.text.strip()\n",
    "        except:\n",
    "            continue\n",
    "        \n",
    "        try:\n",
    "            package = soup_job.find('span',class_='package')\n",
    "            if package == None:\n",
    "                package_text = ''\n",
    "            else:\n",
    "                package_text = package.text.strip()\n",
    "        except:\n",
    "            continue\n",
    "        \n",
    "        try:\n",
    "            job_description = soup_job.find('div',class_='jd-text')\n",
    "            if job_description == None:\n",
    "                job_description_text = ''\n",
    "            else:\n",
    "                job_description_text = job_description.text.strip()\n",
    "        except:\n",
    "            continue\n",
    "\n",
    "        industry = soup_job.find_all('a',attrs={'onclick':\"window.appBehavior.jd.tracking.jobDetailsItemClick(detailName='Industry')\"})\n",
    "        industry_=[]\n",
    "        for x in industry:\n",
    "            a = x.text.strip()\n",
    "            industry_.append(a)\n",
    "\n",
    "        function = soup_job.find_all('a',attrs={'onclick':\"window.appBehavior.jd.tracking.jobDetailsItemClick(detailName='Function')\"})\n",
    "        function_=[]\n",
    "        for x in function:\n",
    "            a = x.text.strip()\n",
    "            function_.append(a)\n",
    "        \n",
    "        roles = soup_job.find_all('a',attrs={'onclick':\"window.appBehavior.jd.tracking.jobDetailsItemClick(detailName='Roles')\"})\n",
    "        roles_ = []\n",
    "        for x in roles:\n",
    "            a = x.text.strip().split(',')\n",
    "            roles_.append(a[0].strip())\n",
    "        \n",
    "        skills = soup_job.find_all('a',class_='skill-name')\n",
    "        skills_ = []\n",
    "        for x in skills:\n",
    "            a = x.text.strip()\n",
    "            skills_.append(a)\n",
    "                    \n",
    "        job_data = {'job_title':job_title_text,'company_name':compnay_name_text,'job_location':job_location,'exp':exp_text,\n",
    "                   'package':package_text,'job_description':job_description_text,'industry':industry_,'function':function_,'roles':roles_,'skills':skills_}\n",
    "        \n",
    "        df = df.append(job_data,ignore_index=True)\n",
    "        "
   ]
  },
  {
   "cell_type": "code",
   "execution_count": null,
   "id": "radio-bryan",
   "metadata": {},
   "outputs": [],
   "source": [
    "df.to_csv('file2.csv')"
   ]
  },
  {
   "cell_type": "code",
   "execution_count": null,
   "id": "southern-moscow",
   "metadata": {},
   "outputs": [],
   "source": [
    "time_taken = time.time() - start_time"
   ]
  },
  {
   "cell_type": "code",
   "execution_count": null,
   "id": "related-grass",
   "metadata": {},
   "outputs": [],
   "source": [
    "print(time_taken)"
   ]
  },
  {
   "cell_type": "code",
   "execution_count": null,
   "id": "first-triple",
   "metadata": {},
   "outputs": [],
   "source": []
  }
 ],
 "metadata": {
  "kernelspec": {
   "display_name": "Python 3",
   "language": "python",
   "name": "python3"
  },
  "language_info": {
   "codemirror_mode": {
    "name": "ipython",
    "version": 3
   },
   "file_extension": ".py",
   "mimetype": "text/x-python",
   "name": "python",
   "nbconvert_exporter": "python",
   "pygments_lexer": "ipython3",
   "version": "3.9.1"
  }
 },
 "nbformat": 4,
 "nbformat_minor": 5
}
