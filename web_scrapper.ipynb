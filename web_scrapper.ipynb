{
 "cells": [
  {
   "cell_type": "code",
   "execution_count": 65,
   "id": "italian-arctic",
   "metadata": {},
   "outputs": [],
   "source": [
    "import requests,json\n",
    "from bs4 import BeautifulSoup\n",
    "from pymongo import MongoClient"
   ]
  },
  {
   "cell_type": "code",
   "execution_count": 66,
   "id": "adjacent-dominant",
   "metadata": {},
   "outputs": [],
   "source": [
    "URL = 'https://www.monsterindia.com/search/freshers-jobs?searchId=b4215b81-3488-432e-9936-6f2c6c42640c'\n",
    "agent = {\"User-Agent\":'Mozilla/5.0 (Windows NT 6.3; WOW64) AppleWebKit/537.36 (KHTML, like Gecko) Chrome/59.0.3071.115 Safari/537.36'}\n",
    "page = requests.get(URL,headers=agent)"
   ]
  },
  {
   "cell_type": "code",
   "execution_count": 67,
   "id": "lyric-bones",
   "metadata": {},
   "outputs": [],
   "source": [
    "soup = BeautifulSoup(page.content,'html.parser')"
   ]
  },
  {
   "cell_type": "code",
   "execution_count": 68,
   "id": "amazing-flood",
   "metadata": {},
   "outputs": [],
   "source": [
    "job_elems = soup.find_all('div',class_='card-apply-content')"
   ]
  },
  {
   "cell_type": "code",
   "execution_count": 69,
   "id": "formal-volume",
   "metadata": {},
   "outputs": [],
   "source": [
    "client = MongoClient(\"mongodb://localhost:27017/\")\n",
    "db = client[\"job_posting\"]\n",
    "collections = db[\"job_data\"]"
   ]
  },
  {
   "cell_type": "code",
   "execution_count": 70,
   "id": "protective-television",
   "metadata": {},
   "outputs": [],
   "source": [
    "for job_elem in job_elems:\n",
    "    job_title = job_elem.find('h3',class_='medium')\n",
    "\n",
    "    company_name = job_elem.find('span',class_='company-name')\n",
    "\n",
    "    job_location = job_elem.find('span',class_='loc')\n",
    "    a = job_location.text.strip().split(',')\n",
    "    job_location = []\n",
    "    for x in a:\n",
    "        job_location.append(x.strip())\n",
    "\n",
    "    exp = job_elem.find('div',class_='exp col-xxs-12 col-sm-3 text-ellipsis')\n",
    "\n",
    "    package = job_elem.find('div',class_='package col-xxs-12 col-sm-4 text-ellipsis')\n",
    "\n",
    "    job_description = job_elem.find('p',class_='job-descrip')\n",
    "\n",
    "    skills = job_elem.find_all('label',class_='grey-link')\n",
    "    skills_req = []\n",
    "    for x in skills:\n",
    "        a = x.text.strip().split(',')\n",
    "        skills_req.append(a[0].strip())\n",
    "\n",
    "    \n",
    "    job_data = {'job_title':job_title.text.strip(),'company_name':company_name.text.strip(),'job_location':job_location,'exp':exp.text.strip(),\n",
    "                   'package':package.text.strip(),'job_description':job_description.text.strip(),'skills':skills_req}\n",
    "    \n",
    "    y = json.dumps(job_data)\n",
    "    x = json.loads(y)\n",
    "    \n",
    "    if isinstance(x,list):\n",
    "        collections.insert_many(x)\n",
    "    else:\n",
    "        collections.insert_one(x)\n"
   ]
  },
  {
   "cell_type": "code",
   "execution_count": null,
   "id": "scenic-tower",
   "metadata": {},
   "outputs": [],
   "source": []
  }
 ],
 "metadata": {
  "kernelspec": {
   "display_name": "Python 3",
   "language": "python",
   "name": "python3"
  },
  "language_info": {
   "codemirror_mode": {
    "name": "ipython",
    "version": 3
   },
   "file_extension": ".py",
   "mimetype": "text/x-python",
   "name": "python",
   "nbconvert_exporter": "python",
   "pygments_lexer": "ipython3",
   "version": "3.9.1"
  }
 },
 "nbformat": 4,
 "nbformat_minor": 5
}
