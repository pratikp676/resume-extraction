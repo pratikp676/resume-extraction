{
 "cells": [
  {
   "cell_type": "code",
   "execution_count": 1,
   "id": "c9ff7efb",
   "metadata": {},
   "outputs": [],
   "source": [
    "import numpy as np\n",
    "import matplotlib.pyplot as plt\n",
    "import pandas as pd"
   ]
  },
  {
   "cell_type": "code",
   "execution_count": 2,
   "id": "01fa357c",
   "metadata": {
    "scrolled": false
   },
   "outputs": [
    {
     "name": "stdout",
     "output_type": "stream",
     "text": [
      "1999\n",
      "775\n"
     ]
    }
   ],
   "source": [
    "dataset = pd.read_csv('MODEL_DATA_2.csv')\n",
    "print(len(dataset))\n",
    "dataset.drop_duplicates(inplace=True)\n",
    "print(len(dataset))\n",
    "X = dataset.iloc[:, 4:-1].values\n",
    "y = dataset.iloc[:, -1].values"
   ]
  },
  {
   "cell_type": "code",
   "execution_count": 3,
   "id": "a12c3fa2",
   "metadata": {},
   "outputs": [],
   "source": [
    "y = y.reshape(len(y),1)"
   ]
  },
  {
   "cell_type": "code",
   "execution_count": 4,
   "id": "55e3dfbd",
   "metadata": {},
   "outputs": [],
   "source": [
    "from sklearn.model_selection import train_test_split\n",
    "X_train, X_test, y_train, y_test = train_test_split(X, y, test_size = 0.2, random_state = 0)"
   ]
  },
  {
   "cell_type": "code",
   "execution_count": 5,
   "id": "cd7a4305",
   "metadata": {},
   "outputs": [],
   "source": [
    "from sklearn.preprocessing import StandardScaler\n",
    "sc_X = StandardScaler()\n",
    "sc_y = StandardScaler()\n",
    "X_train = sc_X.fit_transform(X_train)\n",
    "y_train = sc_y.fit_transform(y_train)"
   ]
  },
  {
   "cell_type": "code",
   "execution_count": 6,
   "id": "417d3eae",
   "metadata": {},
   "outputs": [
    {
     "data": {
      "text/plain": [
       "LinearRegression()"
      ]
     },
     "execution_count": 6,
     "metadata": {},
     "output_type": "execute_result"
    }
   ],
   "source": [
    "from sklearn.preprocessing import PolynomialFeatures\n",
    "from sklearn.linear_model import LinearRegression\n",
    "poly_reg = PolynomialFeatures(degree = 2)\n",
    "X_poly = poly_reg.fit_transform(X_train)\n",
    "regressor = LinearRegression()\n",
    "regressor.fit(X_poly, y_train)"
   ]
  },
  {
   "cell_type": "code",
   "execution_count": 7,
   "id": "811e40fd",
   "metadata": {},
   "outputs": [
    {
     "name": "stdout",
     "output_type": "stream",
     "text": [
      "[[416923.56 580000.  ]\n",
      " [500453.05 540000.  ]\n",
      " [529686.62 589999.5 ]\n",
      " [246404.88 200000.  ]\n",
      " [500453.05 480000.  ]\n",
      " [413075.72 600000.  ]\n",
      " [299848.24 200000.  ]\n",
      " [464927.7  585000.  ]\n",
      " [540486.46 585000.  ]\n",
      " [297764.88 100000.  ]\n",
      " [246404.88 200000.  ]\n",
      " [500453.05 439999.5 ]\n",
      " [464927.7  585000.  ]\n",
      " [500453.05 535000.  ]\n",
      " [500453.05 530000.  ]\n",
      " [413075.72 569999.5 ]\n",
      " [432461.01 450000.  ]\n",
      " [464927.7  585000.  ]\n",
      " [464927.7  585000.  ]\n",
      " [403579.09 200000.  ]\n",
      " [413075.72 605000.  ]\n",
      " [500453.05 320000.  ]\n",
      " [500453.05 384999.5 ]\n",
      " [246404.88 200000.  ]\n",
      " [289332.85 200000.  ]\n",
      " [500453.05 415000.  ]\n",
      " [413075.72 200000.  ]\n",
      " [289332.85 200000.  ]\n",
      " [500453.05 435000.  ]\n",
      " [284323.73 200000.  ]\n",
      " [289332.85 200000.  ]\n",
      " [289332.85 615000.  ]\n",
      " [500453.05 594999.5 ]\n",
      " [289332.85 200000.  ]\n",
      " [416923.56 580000.  ]\n",
      " [435915.13 670000.  ]\n",
      " [299848.24 200000.  ]\n",
      " [510509.24 215000.  ]\n",
      " [428300.89 589999.5 ]\n",
      " [381369.37 350000.  ]\n",
      " [500453.05 545000.  ]\n",
      " [540486.46 475000.  ]\n",
      " [540486.46 585000.  ]\n",
      " [416923.56 580000.  ]\n",
      " [403579.09 200000.  ]\n",
      " [529686.62 589999.5 ]\n",
      " [416923.56 594999.5 ]\n",
      " [406683.26 350000.  ]\n",
      " [540486.46 585000.  ]\n",
      " [500453.05 530000.  ]\n",
      " [344615.07 305000.  ]\n",
      " [500453.05 515000.  ]\n",
      " [500453.05 490000.  ]\n",
      " [428300.89 594999.5 ]\n",
      " [246404.88 200000.  ]\n",
      " [246404.88 200000.  ]\n",
      " [413075.72 200000.  ]\n",
      " [265278.1  200000.  ]\n",
      " [540486.46 315000.  ]\n",
      " [382351.65 589999.5 ]\n",
      " [500453.05 505000.  ]\n",
      " [416923.56 594999.5 ]\n",
      " [500453.05 430000.  ]\n",
      " [299848.24 200000.  ]\n",
      " [297764.88 155000.  ]\n",
      " [289332.85 200000.  ]\n",
      " [413075.72 630000.  ]\n",
      " [434595.58 535000.  ]\n",
      " [540486.46 585000.  ]\n",
      " [246404.88 250000.  ]\n",
      " [464927.7  585000.  ]\n",
      " [246404.88 470000.  ]\n",
      " [529686.62 594999.5 ]\n",
      " [289332.85 360000.  ]\n",
      " [500453.05 420000.  ]\n",
      " [299848.24 200000.  ]\n",
      " [413075.72 540000.  ]\n",
      " [434595.58 470000.  ]\n",
      " [500453.05 389999.5 ]\n",
      " [464927.7  585000.  ]\n",
      " [246404.88 335000.  ]\n",
      " [359237.64 460000.  ]\n",
      " [500453.05 475000.  ]\n",
      " [435915.13 200000.  ]\n",
      " [500453.05 470000.  ]\n",
      " [540486.46 585000.  ]\n",
      " [265278.1  190000.  ]\n",
      " [416923.56 580000.  ]\n",
      " [289332.85 200000.  ]\n",
      " [246404.88 200000.  ]\n",
      " [413075.72 200000.  ]\n",
      " [246404.88 200000.  ]\n",
      " [500453.05 540000.  ]\n",
      " [416923.56 580000.  ]\n",
      " [529686.62 589999.5 ]\n",
      " [246404.88 200000.  ]\n",
      " [464927.7  585000.  ]\n",
      " [434595.58 540000.  ]\n",
      " [500453.05 350000.  ]\n",
      " [396102.19 330000.  ]\n",
      " [246404.88 200000.  ]\n",
      " [416923.56 580000.  ]\n",
      " [413075.72 535000.  ]\n",
      " [500453.05 385000.  ]\n",
      " [289332.85 200000.  ]\n",
      " [299848.24 200000.  ]\n",
      " [500453.05 434999.5 ]\n",
      " [500453.05 535000.  ]\n",
      " [413075.72 530000.  ]\n",
      " [500453.05 470000.  ]\n",
      " [540486.46 585000.  ]\n",
      " [289332.85 200000.  ]\n",
      " [318704.47 589999.5 ]\n",
      " [435915.13 300000.  ]\n",
      " [540486.46 585000.  ]\n",
      " [176449.29 230000.  ]\n",
      " [416923.56 580000.  ]\n",
      " [500453.05 589999.5 ]\n",
      " [529686.62 594999.5 ]\n",
      " [284323.73 195000.  ]\n",
      " [500453.05 480000.  ]\n",
      " [416923.56 580000.  ]\n",
      " [406683.26 330000.  ]\n",
      " [540486.46 585000.  ]\n",
      " [406683.26 350000.  ]\n",
      " [500453.05 545000.  ]\n",
      " [246404.88 395000.  ]\n",
      " [500453.05 350000.  ]\n",
      " [500453.05 485000.  ]\n",
      " [500453.05 430000.  ]\n",
      " [289332.85 365000.  ]\n",
      " [246404.88 200000.  ]\n",
      " [299848.24 200000.  ]\n",
      " [413075.72 200000.  ]\n",
      " [289332.85 200000.  ]\n",
      " [416923.56 580000.  ]\n",
      " [500453.05 444999.5 ]\n",
      " [289332.85 340000.  ]\n",
      " [246404.88 200000.  ]\n",
      " [265278.1  200000.  ]\n",
      " [265278.1  215000.  ]\n",
      " [500453.05 550000.  ]\n",
      " [432461.01 315000.  ]\n",
      " [500453.05 490000.  ]\n",
      " [432461.01 475000.  ]\n",
      " [289332.85 200000.  ]\n",
      " [403579.09 175000.  ]\n",
      " [500453.05 530000.  ]\n",
      " [246404.88 200000.  ]\n",
      " [500453.05 320000.  ]\n",
      " [406683.26 354999.5 ]\n",
      " [284323.73 310000.  ]\n",
      " [246404.88 200000.  ]\n",
      " [406683.26 345000.  ]\n",
      " [406683.26 354999.5 ]]\n"
     ]
    }
   ],
   "source": [
    "y_pred = sc_y.inverse_transform(regressor.predict(poly_reg.transform(sc_X.transform(X_test))))\n",
    "np.set_printoptions(precision=2)\n",
    "print(np.concatenate((y_pred.reshape(len(y_pred),1), y_test.reshape(len(y_test),1)),1))"
   ]
  },
  {
   "cell_type": "code",
   "execution_count": 8,
   "id": "13b4b598",
   "metadata": {},
   "outputs": [
    {
     "data": {
      "text/plain": [
       "0.4659128781357448"
      ]
     },
     "execution_count": 8,
     "metadata": {},
     "output_type": "execute_result"
    }
   ],
   "source": [
    "from sklearn.metrics import r2_score\n",
    "r2_score(y_test, y_pred)"
   ]
  },
  {
   "cell_type": "code",
   "execution_count": null,
   "id": "0c1869f9",
   "metadata": {},
   "outputs": [],
   "source": []
  },
  {
   "cell_type": "code",
   "execution_count": null,
   "id": "5270f6e9",
   "metadata": {},
   "outputs": [],
   "source": []
  }
 ],
 "metadata": {
  "kernelspec": {
   "display_name": "Python 3",
   "language": "python",
   "name": "python3"
  },
  "language_info": {
   "codemirror_mode": {
    "name": "ipython",
    "version": 3
   },
   "file_extension": ".py",
   "mimetype": "text/x-python",
   "name": "python",
   "nbconvert_exporter": "python",
   "pygments_lexer": "ipython3",
   "version": "3.8.8"
  }
 },
 "nbformat": 4,
 "nbformat_minor": 5
}
