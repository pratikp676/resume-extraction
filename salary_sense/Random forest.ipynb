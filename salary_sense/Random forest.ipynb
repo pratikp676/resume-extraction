{
 "cells": [
  {
   "cell_type": "code",
   "execution_count": 1,
   "id": "f338c523",
   "metadata": {},
   "outputs": [],
   "source": [
    "import numpy as np\n",
    "import matplotlib.pyplot as plt\n",
    "import pandas as pd"
   ]
  },
  {
   "cell_type": "code",
   "execution_count": 2,
   "id": "b088ddf1",
   "metadata": {},
   "outputs": [
    {
     "name": "stdout",
     "output_type": "stream",
     "text": [
      "1999\n",
      "775\n"
     ]
    }
   ],
   "source": [
    "dataset = pd.read_csv('MODEL_DATA_2.csv')\n",
    "print(len(dataset))\n",
    "dataset.drop_duplicates(inplace=True)\n",
    "print(len(dataset))\n",
    "X = dataset.iloc[:, 4:-1].values\n",
    "y = dataset.iloc[:, -1].values"
   ]
  },
  {
   "cell_type": "code",
   "execution_count": 3,
   "id": "b0d9f181",
   "metadata": {},
   "outputs": [],
   "source": [
    "y = y.reshape(len(y),1)"
   ]
  },
  {
   "cell_type": "code",
   "execution_count": 4,
   "id": "297aaaaf",
   "metadata": {},
   "outputs": [],
   "source": [
    "from sklearn.model_selection import train_test_split\n",
    "X_train, X_test, y_train, y_test = train_test_split(X, y, test_size = 0.2, random_state = 0)"
   ]
  },
  {
   "cell_type": "code",
   "execution_count": 5,
   "id": "e730db22",
   "metadata": {},
   "outputs": [],
   "source": [
    "from sklearn.preprocessing import StandardScaler\n",
    "sc_X = StandardScaler()\n",
    "sc_y = StandardScaler()\n",
    "X_train = sc_X.fit_transform(X_train)\n",
    "y_train = sc_y.fit_transform(y_train)"
   ]
  },
  {
   "cell_type": "code",
   "execution_count": 6,
   "id": "e8e7dc39",
   "metadata": {},
   "outputs": [
    {
     "name": "stderr",
     "output_type": "stream",
     "text": [
      "<ipython-input-6-c04ef8cd1bda>:3: DataConversionWarning: A column-vector y was passed when a 1d array was expected. Please change the shape of y to (n_samples,), for example using ravel().\n",
      "  regressor.fit(X_train, y_train)\n"
     ]
    },
    {
     "data": {
      "text/plain": [
       "RandomForestRegressor(n_estimators=500, random_state=0)"
      ]
     },
     "execution_count": 6,
     "metadata": {},
     "output_type": "execute_result"
    }
   ],
   "source": [
    "from sklearn.ensemble import RandomForestRegressor\n",
    "regressor = RandomForestRegressor(n_estimators = 500, random_state = 0)\n",
    "regressor.fit(X_train, y_train)"
   ]
  },
  {
   "cell_type": "code",
   "execution_count": 7,
   "id": "9481806d",
   "metadata": {},
   "outputs": [
    {
     "name": "stdout",
     "output_type": "stream",
     "text": [
      "[[567301.21 580000.  ]\n",
      " [486358.85 540000.  ]\n",
      " [587204.84 589999.5 ]\n",
      " [234699.11 200000.  ]\n",
      " [486358.85 480000.  ]\n",
      " [409847.06 600000.  ]\n",
      " [227668.3  200000.  ]\n",
      " [552661.57 585000.  ]\n",
      " [495646.62 585000.  ]\n",
      " [128166.93 100000.  ]\n",
      " [234699.11 200000.  ]\n",
      " [486358.85 439999.5 ]\n",
      " [552661.57 585000.  ]\n",
      " [486358.85 535000.  ]\n",
      " [486358.85 530000.  ]\n",
      " [409847.06 569999.5 ]\n",
      " [345159.03 450000.  ]\n",
      " [552661.57 585000.  ]\n",
      " [552661.57 585000.  ]\n",
      " [351207.76 200000.  ]\n",
      " [409847.06 605000.  ]\n",
      " [486358.85 320000.  ]\n",
      " [486358.85 384999.5 ]\n",
      " [234699.11 200000.  ]\n",
      " [269459.77 200000.  ]\n",
      " [486358.85 415000.  ]\n",
      " [409847.06 200000.  ]\n",
      " [269459.77 200000.  ]\n",
      " [486358.85 435000.  ]\n",
      " [355504.26 200000.  ]\n",
      " [269459.77 200000.  ]\n",
      " [269459.77 615000.  ]\n",
      " [486358.85 594999.5 ]\n",
      " [269459.77 200000.  ]\n",
      " [567301.21 580000.  ]\n",
      " [504772.52 670000.  ]\n",
      " [227668.3  200000.  ]\n",
      " [382678.61 215000.  ]\n",
      " [559616.06 589999.5 ]\n",
      " [337544.86 350000.  ]\n",
      " [486358.85 545000.  ]\n",
      " [495646.62 475000.  ]\n",
      " [495646.62 585000.  ]\n",
      " [567301.21 580000.  ]\n",
      " [351207.76 200000.  ]\n",
      " [587204.84 589999.5 ]\n",
      " [567301.21 594999.5 ]\n",
      " [359786.03 350000.  ]\n",
      " [495646.62 585000.  ]\n",
      " [486358.85 530000.  ]\n",
      " [535974.26 305000.  ]\n",
      " [486358.85 515000.  ]\n",
      " [486358.85 490000.  ]\n",
      " [559616.06 594999.5 ]\n",
      " [234699.11 200000.  ]\n",
      " [234699.11 200000.  ]\n",
      " [409847.06 200000.  ]\n",
      " [214394.31 200000.  ]\n",
      " [495646.62 315000.  ]\n",
      " [496635.7  589999.5 ]\n",
      " [486358.85 505000.  ]\n",
      " [567301.21 594999.5 ]\n",
      " [486358.85 430000.  ]\n",
      " [227668.3  200000.  ]\n",
      " [128166.93 155000.  ]\n",
      " [269459.77 200000.  ]\n",
      " [409847.06 630000.  ]\n",
      " [494955.64 535000.  ]\n",
      " [495646.62 585000.  ]\n",
      " [234699.11 250000.  ]\n",
      " [552661.57 585000.  ]\n",
      " [234699.11 470000.  ]\n",
      " [587204.84 594999.5 ]\n",
      " [269459.77 360000.  ]\n",
      " [486358.85 420000.  ]\n",
      " [227668.3  200000.  ]\n",
      " [409847.06 540000.  ]\n",
      " [494955.64 470000.  ]\n",
      " [486358.85 389999.5 ]\n",
      " [552661.57 585000.  ]\n",
      " [234699.11 335000.  ]\n",
      " [463292.76 460000.  ]\n",
      " [486358.85 475000.  ]\n",
      " [504772.52 200000.  ]\n",
      " [486358.85 470000.  ]\n",
      " [495646.62 585000.  ]\n",
      " [214394.31 190000.  ]\n",
      " [567301.21 580000.  ]\n",
      " [269459.77 200000.  ]\n",
      " [234699.11 200000.  ]\n",
      " [409847.06 200000.  ]\n",
      " [234699.11 200000.  ]\n",
      " [486358.85 540000.  ]\n",
      " [567301.21 580000.  ]\n",
      " [587204.84 589999.5 ]\n",
      " [234699.11 200000.  ]\n",
      " [552661.57 585000.  ]\n",
      " [494955.64 540000.  ]\n",
      " [486358.85 350000.  ]\n",
      " [360310.6  330000.  ]\n",
      " [234699.11 200000.  ]\n",
      " [567301.21 580000.  ]\n",
      " [409847.06 535000.  ]\n",
      " [486358.85 385000.  ]\n",
      " [269459.77 200000.  ]\n",
      " [227668.3  200000.  ]\n",
      " [486358.85 434999.5 ]\n",
      " [486358.85 535000.  ]\n",
      " [409847.06 530000.  ]\n",
      " [486358.85 470000.  ]\n",
      " [495646.62 585000.  ]\n",
      " [269459.77 200000.  ]\n",
      " [334148.55 589999.5 ]\n",
      " [504772.52 300000.  ]\n",
      " [495646.62 585000.  ]\n",
      " [298734.74 230000.  ]\n",
      " [567301.21 580000.  ]\n",
      " [486358.85 589999.5 ]\n",
      " [587204.84 594999.5 ]\n",
      " [355504.26 195000.  ]\n",
      " [486358.85 480000.  ]\n",
      " [567301.21 580000.  ]\n",
      " [359786.03 330000.  ]\n",
      " [495646.62 585000.  ]\n",
      " [359786.03 350000.  ]\n",
      " [486358.85 545000.  ]\n",
      " [234699.11 395000.  ]\n",
      " [486358.85 350000.  ]\n",
      " [486358.85 485000.  ]\n",
      " [486358.85 430000.  ]\n",
      " [269459.77 365000.  ]\n",
      " [234699.11 200000.  ]\n",
      " [227668.3  200000.  ]\n",
      " [409847.06 200000.  ]\n",
      " [269459.77 200000.  ]\n",
      " [567301.21 580000.  ]\n",
      " [486358.85 444999.5 ]\n",
      " [269459.77 340000.  ]\n",
      " [234699.11 200000.  ]\n",
      " [214394.31 200000.  ]\n",
      " [214394.31 215000.  ]\n",
      " [486358.85 550000.  ]\n",
      " [345159.03 315000.  ]\n",
      " [486358.85 490000.  ]\n",
      " [345159.03 475000.  ]\n",
      " [269459.77 200000.  ]\n",
      " [351207.76 175000.  ]\n",
      " [486358.85 530000.  ]\n",
      " [234699.11 200000.  ]\n",
      " [486358.85 320000.  ]\n",
      " [359786.03 354999.5 ]\n",
      " [355504.26 310000.  ]\n",
      " [234699.11 200000.  ]\n",
      " [359786.03 345000.  ]\n",
      " [359786.03 354999.5 ]]\n"
     ]
    }
   ],
   "source": [
    "y_pred = sc_y.inverse_transform(regressor.predict(sc_X.transform(X_test)))\n",
    "np.set_printoptions(precision=2)\n",
    "print(np.concatenate((y_pred.reshape(len(y_pred),1), y_test.reshape(len(y_test),1)),1))"
   ]
  },
  {
   "cell_type": "code",
   "execution_count": 8,
   "id": "7cfcfa5d",
   "metadata": {},
   "outputs": [
    {
     "data": {
      "text/plain": [
       "0.6343283708875783"
      ]
     },
     "execution_count": 8,
     "metadata": {},
     "output_type": "execute_result"
    }
   ],
   "source": [
    "from sklearn.metrics import r2_score\n",
    "r2_score(y_test, y_pred)"
   ]
  },
  {
   "cell_type": "code",
   "execution_count": null,
   "id": "f1d85717",
   "metadata": {},
   "outputs": [],
   "source": []
  },
  {
   "cell_type": "code",
   "execution_count": null,
   "id": "ff45f970",
   "metadata": {},
   "outputs": [],
   "source": []
  },
  {
   "cell_type": "code",
   "execution_count": null,
   "id": "e45d5996",
   "metadata": {},
   "outputs": [],
   "source": []
  }
 ],
 "metadata": {
  "kernelspec": {
   "display_name": "Python 3",
   "language": "python",
   "name": "python3"
  },
  "language_info": {
   "codemirror_mode": {
    "name": "ipython",
    "version": 3
   },
   "file_extension": ".py",
   "mimetype": "text/x-python",
   "name": "python",
   "nbconvert_exporter": "python",
   "pygments_lexer": "ipython3",
   "version": "3.8.8"
  }
 },
 "nbformat": 4,
 "nbformat_minor": 5
}
