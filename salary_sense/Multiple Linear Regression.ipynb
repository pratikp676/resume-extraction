{
 "cells": [
  {
   "cell_type": "code",
   "execution_count": 1,
   "id": "618bffa0",
   "metadata": {},
   "outputs": [],
   "source": [
    "import numpy as np\n",
    "import matplotlib.pyplot as plt\n",
    "import pandas as pd"
   ]
  },
  {
   "cell_type": "code",
   "execution_count": 2,
   "id": "979524f4",
   "metadata": {},
   "outputs": [
    {
     "name": "stdout",
     "output_type": "stream",
     "text": [
      "1999\n",
      "775\n"
     ]
    }
   ],
   "source": [
    "dataset = pd.read_csv('MODEL_DATA_2.csv')\n",
    "print(len(dataset))\n",
    "dataset.drop_duplicates(inplace=True)\n",
    "print(len(dataset))\n",
    "X = dataset.iloc[:, 4:-1].values\n",
    "y = dataset.iloc[:, -1].values"
   ]
  },
  {
   "cell_type": "code",
   "execution_count": 3,
   "id": "519c41b5",
   "metadata": {},
   "outputs": [
    {
     "data": {
      "text/plain": [
       "array([[1. , 1. , 1. , 5. ],\n",
       "       [1. , 1. , 3. , 4. ],\n",
       "       [1. , 1. , 1. , 5. ],\n",
       "       ...,\n",
       "       [1. , 0. , 3. , 1. ],\n",
       "       [1. , 0. , 3. , 1. ],\n",
       "       [1. , 2.5, 3. , 1. ]])"
      ]
     },
     "execution_count": 3,
     "metadata": {},
     "output_type": "execute_result"
    }
   ],
   "source": [
    "X"
   ]
  },
  {
   "cell_type": "code",
   "execution_count": 4,
   "id": "80e85cc0",
   "metadata": {},
   "outputs": [],
   "source": [
    "y = y.reshape(len(y),1)"
   ]
  },
  {
   "cell_type": "code",
   "execution_count": 5,
   "id": "cbb1fc48",
   "metadata": {},
   "outputs": [],
   "source": [
    "# from sklearn.impute import SimpleImputer\n",
    "# imputer = SimpleImputer(missing_values=np.nan, strategy='mean')\n",
    "# imputer.fit(y)\n",
    "# y = imputer.transform(y)"
   ]
  },
  {
   "cell_type": "code",
   "execution_count": 6,
   "id": "af51720b",
   "metadata": {},
   "outputs": [],
   "source": [
    "from sklearn.model_selection import train_test_split\n",
    "X_train, X_test, y_train, y_test = train_test_split(X, y, test_size = 0.2, random_state = 0)"
   ]
  },
  {
   "cell_type": "code",
   "execution_count": 7,
   "id": "8cbcaf48",
   "metadata": {},
   "outputs": [],
   "source": [
    "from sklearn.preprocessing import StandardScaler\n",
    "sc_X = StandardScaler()\n",
    "sc_y = StandardScaler()\n",
    "X_train = sc_X.fit_transform(X_train)\n",
    "y_train = sc_y.fit_transform(y_train)"
   ]
  },
  {
   "cell_type": "code",
   "execution_count": 8,
   "id": "38d99cfe",
   "metadata": {},
   "outputs": [
    {
     "data": {
      "text/plain": [
       "LinearRegression()"
      ]
     },
     "execution_count": 8,
     "metadata": {},
     "output_type": "execute_result"
    }
   ],
   "source": [
    "from sklearn.linear_model import LinearRegression\n",
    "regressor = LinearRegression()\n",
    "regressor.fit(X_train, y_train)"
   ]
  },
  {
   "cell_type": "code",
   "execution_count": 9,
   "id": "6cbe0190",
   "metadata": {},
   "outputs": [
    {
     "name": "stdout",
     "output_type": "stream",
     "text": [
      "[[475968.02 580000.  ]\n",
      " [467781.68 540000.  ]\n",
      " [466083.06 589999.5 ]\n",
      " [300343.99 200000.  ]\n",
      " [467781.68 480000.  ]\n",
      " [470176.23 600000.  ]\n",
      " [341528.09 200000.  ]\n",
      " [478014.6  585000.  ]\n",
      " [480061.19 585000.  ]\n",
      " [386109.42 100000.  ]\n",
      " [300343.99 200000.  ]\n",
      " [467781.68 439999.5 ]\n",
      " [478014.6  585000.  ]\n",
      " [467781.68 535000.  ]\n",
      " [467781.68 530000.  ]\n",
      " [470176.23 569999.5 ]\n",
      " [308530.33 450000.  ]\n",
      " [478014.6  585000.  ]\n",
      " [478014.6  585000.  ]\n",
      " [471874.85 200000.  ]\n",
      " [470176.23 605000.  ]\n",
      " [467781.68 320000.  ]\n",
      " [467781.68 384999.5 ]\n",
      " [300343.99 200000.  ]\n",
      " [298645.37 200000.  ]\n",
      " [467781.68 415000.  ]\n",
      " [470176.23 200000.  ]\n",
      " [298645.37 200000.  ]\n",
      " [467781.68 435000.  ]\n",
      " [304437.16 200000.  ]\n",
      " [298645.37 200000.  ]\n",
      " [298645.37 615000.  ]\n",
      " [467781.68 594999.5 ]\n",
      " [298645.37 200000.  ]\n",
      " [475968.02 580000.  ]\n",
      " [306831.72 670000.  ]\n",
      " [341528.09 200000.  ]\n",
      " [478362.57 215000.  ]\n",
      " [380317.63 589999.5 ]\n",
      " [294552.2  350000.  ]\n",
      " [467781.68 545000.  ]\n",
      " [480061.19 475000.  ]\n",
      " [480061.19 585000.  ]\n",
      " [475968.02 580000.  ]\n",
      " [471874.85 200000.  ]\n",
      " [466083.06 589999.5 ]\n",
      " [475968.02 594999.5 ]\n",
      " [474269.4  350000.  ]\n",
      " [480061.19 585000.  ]\n",
      " [467781.68 530000.  ]\n",
      " [306483.75 305000.  ]\n",
      " [467781.68 515000.  ]\n",
      " [467781.68 490000.  ]\n",
      " [380317.63 594999.5 ]\n",
      " [300343.99 200000.  ]\n",
      " [300343.99 200000.  ]\n",
      " [470176.23 200000.  ]\n",
      " [343226.7  200000.  ]\n",
      " [480061.19 315000.  ]\n",
      " [382016.25 589999.5 ]\n",
      " [467781.68 505000.  ]\n",
      " [475968.02 594999.5 ]\n",
      " [467781.68 430000.  ]\n",
      " [341528.09 200000.  ]\n",
      " [386109.42 155000.  ]\n",
      " [298645.37 200000.  ]\n",
      " [470176.23 630000.  ]\n",
      " [424898.96 535000.  ]\n",
      " [480061.19 585000.  ]\n",
      " [300343.99 250000.  ]\n",
      " [478014.6  585000.  ]\n",
      " [300343.99 470000.  ]\n",
      " [466083.06 594999.5 ]\n",
      " [298645.37 360000.  ]\n",
      " [467781.68 420000.  ]\n",
      " [341528.09 200000.  ]\n",
      " [470176.23 540000.  ]\n",
      " [424898.96 470000.  ]\n",
      " [467781.68 389999.5 ]\n",
      " [478014.6  585000.  ]\n",
      " [300343.99 335000.  ]\n",
      " [347667.84 460000.  ]\n",
      " [467781.68 475000.  ]\n",
      " [306831.72 200000.  ]\n",
      " [467781.68 470000.  ]\n",
      " [480061.19 585000.  ]\n",
      " [343226.7  190000.  ]\n",
      " [475968.02 580000.  ]\n",
      " [298645.37 200000.  ]\n",
      " [300343.99 200000.  ]\n",
      " [470176.23 200000.  ]\n",
      " [300343.99 200000.  ]\n",
      " [467781.68 540000.  ]\n",
      " [475968.02 580000.  ]\n",
      " [466083.06 589999.5 ]\n",
      " [300343.99 200000.  ]\n",
      " [478014.6  585000.  ]\n",
      " [424898.96 540000.  ]\n",
      " [467781.68 350000.  ]\n",
      " [472222.82 330000.  ]\n",
      " [300343.99 200000.  ]\n",
      " [475968.02 580000.  ]\n",
      " [470176.23 535000.  ]\n",
      " [467781.68 385000.  ]\n",
      " [298645.37 200000.  ]\n",
      " [341528.09 200000.  ]\n",
      " [467781.68 434999.5 ]\n",
      " [467781.68 535000.  ]\n",
      " [470176.23 530000.  ]\n",
      " [467781.68 470000.  ]\n",
      " [480061.19 585000.  ]\n",
      " [298645.37 200000.  ]\n",
      " [296250.82 589999.5 ]\n",
      " [306831.72 300000.  ]\n",
      " [480061.19 585000.  ]\n",
      " [303587.85 230000.  ]\n",
      " [475968.02 580000.  ]\n",
      " [467781.68 589999.5 ]\n",
      " [466083.06 594999.5 ]\n",
      " [304437.16 195000.  ]\n",
      " [467781.68 480000.  ]\n",
      " [475968.02 580000.  ]\n",
      " [474269.4  330000.  ]\n",
      " [480061.19 585000.  ]\n",
      " [474269.4  350000.  ]\n",
      " [467781.68 545000.  ]\n",
      " [300343.99 395000.  ]\n",
      " [467781.68 350000.  ]\n",
      " [467781.68 485000.  ]\n",
      " [467781.68 430000.  ]\n",
      " [298645.37 365000.  ]\n",
      " [300343.99 200000.  ]\n",
      " [341528.09 200000.  ]\n",
      " [470176.23 200000.  ]\n",
      " [298645.37 200000.  ]\n",
      " [475968.02 580000.  ]\n",
      " [467781.68 444999.5 ]\n",
      " [298645.37 340000.  ]\n",
      " [300343.99 200000.  ]\n",
      " [343226.7  200000.  ]\n",
      " [343226.7  215000.  ]\n",
      " [467781.68 550000.  ]\n",
      " [308530.33 315000.  ]\n",
      " [467781.68 490000.  ]\n",
      " [308530.33 475000.  ]\n",
      " [298645.37 200000.  ]\n",
      " [471874.85 175000.  ]\n",
      " [467781.68 530000.  ]\n",
      " [300343.99 200000.  ]\n",
      " [467781.68 320000.  ]\n",
      " [474269.4  354999.5 ]\n",
      " [304437.16 310000.  ]\n",
      " [300343.99 200000.  ]\n",
      " [474269.4  345000.  ]\n",
      " [474269.4  354999.5 ]]\n"
     ]
    }
   ],
   "source": [
    "y_pred = sc_y.inverse_transform(regressor.predict(sc_X.transform(X_test)))\n",
    "np.set_printoptions(precision=2)\n",
    "print(np.concatenate((y_pred.reshape(len(y_pred),1), y_test.reshape(len(y_test),1)),1))"
   ]
  },
  {
   "cell_type": "code",
   "execution_count": 10,
   "id": "250634c2",
   "metadata": {},
   "outputs": [
    {
     "data": {
      "text/plain": [
       "0.35733862660930316"
      ]
     },
     "execution_count": 10,
     "metadata": {},
     "output_type": "execute_result"
    }
   ],
   "source": [
    "from sklearn.metrics import r2_score\n",
    "r2_score(y_test, y_pred)"
   ]
  },
  {
   "cell_type": "code",
   "execution_count": null,
   "id": "21bb6712",
   "metadata": {},
   "outputs": [],
   "source": []
  },
  {
   "cell_type": "code",
   "execution_count": null,
   "id": "b4ce1d64",
   "metadata": {},
   "outputs": [],
   "source": []
  }
 ],
 "metadata": {
  "kernelspec": {
   "display_name": "Python 3",
   "language": "python",
   "name": "python3"
  },
  "language_info": {
   "codemirror_mode": {
    "name": "ipython",
    "version": 3
   },
   "file_extension": ".py",
   "mimetype": "text/x-python",
   "name": "python",
   "nbconvert_exporter": "python",
   "pygments_lexer": "ipython3",
   "version": "3.8.8"
  }
 },
 "nbformat": 4,
 "nbformat_minor": 5
}
