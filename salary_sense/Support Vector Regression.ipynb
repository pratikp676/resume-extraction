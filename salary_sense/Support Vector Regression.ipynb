{
 "cells": [
  {
   "cell_type": "code",
   "execution_count": 1,
   "id": "081ad1f4",
   "metadata": {},
   "outputs": [],
   "source": [
    "import numpy as np\n",
    "import matplotlib.pyplot as plt\n",
    "import pandas as pd"
   ]
  },
  {
   "cell_type": "code",
   "execution_count": 2,
   "id": "d4d538c7",
   "metadata": {},
   "outputs": [
    {
     "name": "stdout",
     "output_type": "stream",
     "text": [
      "1999\n",
      "775\n"
     ]
    }
   ],
   "source": [
    "dataset = pd.read_csv('MODEL_DATA_2.csv')\n",
    "print(len(dataset))\n",
    "dataset.drop_duplicates(inplace=True)\n",
    "print(len(dataset))\n",
    "X = dataset.iloc[:, 4:-1].values\n",
    "y = dataset.iloc[:, -1].values"
   ]
  },
  {
   "cell_type": "code",
   "execution_count": 3,
   "id": "52ed095a",
   "metadata": {},
   "outputs": [],
   "source": [
    "y = y.reshape(len(y),1)"
   ]
  },
  {
   "cell_type": "code",
   "execution_count": 4,
   "id": "31e7f4c5",
   "metadata": {},
   "outputs": [],
   "source": [
    "from sklearn.model_selection import train_test_split\n",
    "X_train, X_test, y_train, y_test = train_test_split(X, y, test_size = 0.2, random_state = 0)"
   ]
  },
  {
   "cell_type": "code",
   "execution_count": 5,
   "id": "76e7c81f",
   "metadata": {},
   "outputs": [],
   "source": [
    "from sklearn.preprocessing import StandardScaler\n",
    "sc_X = StandardScaler()\n",
    "sc_y = StandardScaler()\n",
    "X_train = sc_X.fit_transform(X_train)\n",
    "y_train = sc_y.fit_transform(y_train)"
   ]
  },
  {
   "cell_type": "code",
   "execution_count": 6,
   "id": "bc87163f",
   "metadata": {},
   "outputs": [
    {
     "name": "stdout",
     "output_type": "stream",
     "text": [
      "[[ 0.         -1.04009079  0.77793259 -0.89601688]\n",
      " [ 0.          0.98775918 -1.28767    -0.89601688]\n",
      " [ 0.         -0.02616581  0.77793259  1.26347958]\n",
      " ...\n",
      " [ 0.         -1.04009079 -1.28767    -0.89601688]\n",
      " [ 0.         -1.04009079  0.77793259 -0.89601688]\n",
      " [ 0.          0.98775918  0.77793259 -0.89601688]]\n"
     ]
    }
   ],
   "source": [
    "print(X_train)"
   ]
  },
  {
   "cell_type": "code",
   "execution_count": 7,
   "id": "8cfbf81e",
   "metadata": {},
   "outputs": [
    {
     "name": "stderr",
     "output_type": "stream",
     "text": [
      "C:\\Users\\pratik\\anaconda3\\envs\\salary_sense\\lib\\site-packages\\sklearn\\utils\\validation.py:63: DataConversionWarning: A column-vector y was passed when a 1d array was expected. Please change the shape of y to (n_samples, ), for example using ravel().\n",
      "  return f(*args, **kwargs)\n"
     ]
    },
    {
     "data": {
      "text/plain": [
       "SVR()"
      ]
     },
     "execution_count": 7,
     "metadata": {},
     "output_type": "execute_result"
    }
   ],
   "source": [
    "from sklearn.svm import SVR\n",
    "regressor = SVR(kernel = 'rbf')\n",
    "regressor.fit(X_train, y_train)"
   ]
  },
  {
   "cell_type": "code",
   "execution_count": 11,
   "id": "ba9be69f",
   "metadata": {},
   "outputs": [
    {
     "data": {
      "text/plain": [
       "array([563947.09])"
      ]
     },
     "execution_count": 11,
     "metadata": {},
     "output_type": "execute_result"
    }
   ],
   "source": [
    "sc_y.inverse_transform(regressor.predict(sc_X.transform([[2,2.5,3,1]])))"
   ]
  },
  {
   "cell_type": "code",
   "execution_count": 9,
   "id": "0ed47fa2",
   "metadata": {},
   "outputs": [
    {
     "name": "stdout",
     "output_type": "stream",
     "text": [
      "[[563517.61 580000.  ]\n",
      " [493471.27 540000.  ]\n",
      " [578612.13 589999.5 ]\n",
      " [216416.51 200000.  ]\n",
      " [493471.27 480000.  ]\n",
      " [391491.99 600000.  ]\n",
      " [216468.52 200000.  ]\n",
      " [612092.88 585000.  ]\n",
      " [568589.35 585000.  ]\n",
      " [226238.14 100000.  ]\n",
      " [216416.51 200000.  ]\n",
      " [493471.27 439999.5 ]\n",
      " [612092.88 585000.  ]\n",
      " [493471.27 535000.  ]\n",
      " [493471.27 530000.  ]\n",
      " [391491.99 569999.5 ]\n",
      " [331442.57 450000.  ]\n",
      " [612092.88 585000.  ]\n",
      " [612092.88 585000.  ]\n",
      " [343576.74 200000.  ]\n",
      " [391491.99 605000.  ]\n",
      " [493471.27 320000.  ]\n",
      " [493471.27 384999.5 ]\n",
      " [216416.51 200000.  ]\n",
      " [216447.41 200000.  ]\n",
      " [493471.27 415000.  ]\n",
      " [391491.99 200000.  ]\n",
      " [216447.41 200000.  ]\n",
      " [493471.27 435000.  ]\n",
      " [301468.41 200000.  ]\n",
      " [216447.41 200000.  ]\n",
      " [216447.41 615000.  ]\n",
      " [493471.27 594999.5 ]\n",
      " [216447.41 200000.  ]\n",
      " [563517.61 580000.  ]\n",
      " [476418.22 670000.  ]\n",
      " [216468.52 200000.  ]\n",
      " [391731.35 215000.  ]\n",
      " [497274.86 589999.5 ]\n",
      " [344363.67 350000.  ]\n",
      " [493471.27 545000.  ]\n",
      " [568589.35 475000.  ]\n",
      " [568589.35 585000.  ]\n",
      " [563517.61 580000.  ]\n",
      " [343576.74 200000.  ]\n",
      " [578612.13 589999.5 ]\n",
      " [563517.61 594999.5 ]\n",
      " [366497.07 350000.  ]\n",
      " [568589.35 585000.  ]\n",
      " [493471.27 530000.  ]\n",
      " [335979.21 305000.  ]\n",
      " [493471.27 515000.  ]\n",
      " [493471.27 490000.  ]\n",
      " [497274.86 594999.5 ]\n",
      " [216416.51 200000.  ]\n",
      " [216416.51 200000.  ]\n",
      " [391491.99 200000.  ]\n",
      " [205511.88 200000.  ]\n",
      " [568589.35 315000.  ]\n",
      " [480449.15 589999.5 ]\n",
      " [493471.27 505000.  ]\n",
      " [563517.61 594999.5 ]\n",
      " [493471.27 430000.  ]\n",
      " [216468.52 200000.  ]\n",
      " [226238.14 155000.  ]\n",
      " [216447.41 200000.  ]\n",
      " [391491.99 630000.  ]\n",
      " [499532.59 535000.  ]\n",
      " [568589.35 585000.  ]\n",
      " [216416.51 250000.  ]\n",
      " [612092.88 585000.  ]\n",
      " [216416.51 470000.  ]\n",
      " [578612.13 594999.5 ]\n",
      " [216447.41 360000.  ]\n",
      " [493471.27 420000.  ]\n",
      " [216468.52 200000.  ]\n",
      " [391491.99 540000.  ]\n",
      " [499532.59 470000.  ]\n",
      " [493471.27 389999.5 ]\n",
      " [612092.88 585000.  ]\n",
      " [216416.51 335000.  ]\n",
      " [408440.46 460000.  ]\n",
      " [493471.27 475000.  ]\n",
      " [476418.22 200000.  ]\n",
      " [493471.27 470000.  ]\n",
      " [568589.35 585000.  ]\n",
      " [205511.88 190000.  ]\n",
      " [563517.61 580000.  ]\n",
      " [216447.41 200000.  ]\n",
      " [216416.51 200000.  ]\n",
      " [391491.99 200000.  ]\n",
      " [216416.51 200000.  ]\n",
      " [493471.27 540000.  ]\n",
      " [563517.61 580000.  ]\n",
      " [578612.13 589999.5 ]\n",
      " [216416.51 200000.  ]\n",
      " [612092.88 585000.  ]\n",
      " [499532.59 540000.  ]\n",
      " [493471.27 350000.  ]\n",
      " [357043.73 330000.  ]\n",
      " [216416.51 200000.  ]\n",
      " [563517.61 580000.  ]\n",
      " [391491.99 535000.  ]\n",
      " [493471.27 385000.  ]\n",
      " [216447.41 200000.  ]\n",
      " [216468.52 200000.  ]\n",
      " [493471.27 434999.5 ]\n",
      " [493471.27 535000.  ]\n",
      " [391491.99 530000.  ]\n",
      " [493471.27 470000.  ]\n",
      " [568589.35 585000.  ]\n",
      " [216447.41 200000.  ]\n",
      " [346506.62 589999.5 ]\n",
      " [476418.22 300000.  ]\n",
      " [568589.35 585000.  ]\n",
      " [284319.95 230000.  ]\n",
      " [563517.61 580000.  ]\n",
      " [493471.27 589999.5 ]\n",
      " [578612.13 594999.5 ]\n",
      " [301468.41 195000.  ]\n",
      " [493471.27 480000.  ]\n",
      " [563517.61 580000.  ]\n",
      " [366497.07 330000.  ]\n",
      " [568589.35 585000.  ]\n",
      " [366497.07 350000.  ]\n",
      " [493471.27 545000.  ]\n",
      " [216416.51 395000.  ]\n",
      " [493471.27 350000.  ]\n",
      " [493471.27 485000.  ]\n",
      " [493471.27 430000.  ]\n",
      " [216447.41 365000.  ]\n",
      " [216416.51 200000.  ]\n",
      " [216468.52 200000.  ]\n",
      " [391491.99 200000.  ]\n",
      " [216447.41 200000.  ]\n",
      " [563517.61 580000.  ]\n",
      " [493471.27 444999.5 ]\n",
      " [216447.41 340000.  ]\n",
      " [216416.51 200000.  ]\n",
      " [205511.88 200000.  ]\n",
      " [205511.88 215000.  ]\n",
      " [493471.27 550000.  ]\n",
      " [331442.57 315000.  ]\n",
      " [493471.27 490000.  ]\n",
      " [331442.57 475000.  ]\n",
      " [216447.41 200000.  ]\n",
      " [343576.74 175000.  ]\n",
      " [493471.27 530000.  ]\n",
      " [216416.51 200000.  ]\n",
      " [493471.27 320000.  ]\n",
      " [366497.07 354999.5 ]\n",
      " [301468.41 310000.  ]\n",
      " [216416.51 200000.  ]\n",
      " [366497.07 345000.  ]\n",
      " [366497.07 354999.5 ]]\n"
     ]
    }
   ],
   "source": [
    "y_pred = sc_y.inverse_transform(regressor.predict(sc_X.transform(X_test)))\n",
    "np.set_printoptions(precision=2)\n",
    "print(np.concatenate((y_pred.reshape(len(y_pred),1), y_test.reshape(len(y_test),1)),1))"
   ]
  },
  {
   "cell_type": "code",
   "execution_count": 10,
   "id": "34224cd3",
   "metadata": {},
   "outputs": [
    {
     "data": {
      "text/plain": [
       "0.6408135566470984"
      ]
     },
     "execution_count": 10,
     "metadata": {},
     "output_type": "execute_result"
    }
   ],
   "source": [
    "from sklearn.metrics import r2_score\n",
    "r2_score(y_test, y_pred)"
   ]
  },
  {
   "cell_type": "code",
   "execution_count": null,
   "id": "1ed624b1",
   "metadata": {},
   "outputs": [],
   "source": []
  },
  {
   "cell_type": "code",
   "execution_count": null,
   "id": "dce8f243",
   "metadata": {},
   "outputs": [],
   "source": []
  }
 ],
 "metadata": {
  "kernelspec": {
   "display_name": "Python 3",
   "language": "python",
   "name": "python3"
  },
  "language_info": {
   "codemirror_mode": {
    "name": "ipython",
    "version": 3
   },
   "file_extension": ".py",
   "mimetype": "text/x-python",
   "name": "python",
   "nbconvert_exporter": "python",
   "pygments_lexer": "ipython3",
   "version": "3.8.8"
  }
 },
 "nbformat": 4,
 "nbformat_minor": 5
}
